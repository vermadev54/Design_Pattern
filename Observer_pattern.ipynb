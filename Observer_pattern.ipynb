{
  "nbformat": 4,
  "nbformat_minor": 0,
  "metadata": {
    "colab": {
      "name": "Observer_pattern.ipynb",
      "version": "0.3.2",
      "provenance": [],
      "include_colab_link": true
    },
    "kernelspec": {
      "name": "python3",
      "display_name": "Python 3"
    }
  },
  "cells": [
    {
      "cell_type": "markdown",
      "metadata": {
        "id": "view-in-github",
        "colab_type": "text"
      },
      "source": [
        "<a href=\"https://colab.research.google.com/github/vermadev54/Design_Pattern/blob/master/Observer_pattern.ipynb\" target=\"_parent\"><img src=\"https://colab.research.google.com/assets/colab-badge.svg\" alt=\"Open In Colab\"/></a>"
      ]
    },
    {
      "cell_type": "code",
      "metadata": {
        "id": "mkPy0yZHLjCJ",
        "colab_type": "code",
        "colab": {}
      },
      "source": [
        "class Observer:\n",
        "    def update(self, obj, *args, **kwargs):\n",
        "        raise NotImplementedError\n",
        "\n",
        "\n",
        "class Observable:\n",
        "    def __init__(self):\n",
        "        self._observers = []\n",
        "\n",
        "    def add_observer(self, observer):\n",
        "        self._observers.append(observer)\n",
        "\n",
        "    def remove_observer(self, observer):\n",
        "        self._observers.remove(observer)\n",
        "\n",
        "    def notify_observer(self, *args, **kwargs):\n",
        "        for observer in self._observers:\n",
        "            observer.update(self, *args, **kwargs)"
      ],
      "execution_count": 0,
      "outputs": []
    }
  ]
}