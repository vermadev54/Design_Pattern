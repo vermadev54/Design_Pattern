{
  "nbformat": 4,
  "nbformat_minor": 0,
  "metadata": {
    "colab": {
      "name": "Untitled3.ipynb",
      "version": "0.3.2",
      "provenance": []
    },
    "kernelspec": {
      "name": "python3",
      "display_name": "Python 3"
    }
  },
  "cells": [
    {
      "cell_type": "code",
      "metadata": {
        "id": "iyxrVyuP4I3l",
        "colab_type": "code",
        "outputId": "416e7ffb-fa5d-4014-b632-99e568607248",
        "colab": {
          "base_uri": "https://localhost:8080/",
          "height": 168
        }
      },
      "source": [
        "class Singleton:\n",
        "  def __new__(self):\n",
        "    if not hasattr(self, 'instance'):\n",
        "      self.instance = super().__new__(self)\n",
        "    return self.instance\n",
        "\n",
        "s = Singleton()\n",
        "print(\"Object created:\", s)\n",
        "\n",
        "s1 = Singleton()\n",
        "print(\"Object created:\", s1)\n",
        "\n",
        "\n",
        "\n",
        "class Singleton:\n",
        "  __instance = None\n",
        "\n",
        "  def __init__(self):\n",
        "    if not Singleton.__instance:\n",
        "      print(\"__init__ method called but nothing is created\")\n",
        "    else:\n",
        "      print(\"instance already created:\", self.getInstance())\n",
        "\n",
        "  @classmethod\n",
        "  def getInstance(cls):\n",
        "    if cls.__instance is None:\n",
        "      cls.__instance = Singleton()\n",
        "    return cls.__instance\n",
        "\n",
        "\n",
        " \n",
        "# class initialized, but object not created\n",
        "s = Singleton() \n",
        "s1 = Singleton()\n",
        "\n",
        "# This returns None although the object is initialized\n",
        "print(s._Singleton__instance)\n",
        "print(s1._Singleton__instance)\n",
        "\n",
        "# We now explicitly initialize the object:\n",
        "s.getInstance()\n",
        "s1.getInstance()\n",
        "\n",
        "# Which is now accessible\n",
        "print(s._Singleton__instance)\n",
        "print(s1._Singleton__instance)"
      ],
      "execution_count": 0,
      "outputs": [
        {
          "output_type": "stream",
          "text": [
            "Object created: <__main__.Singleton object at 0x7f78929510f0>\n",
            "Object created: <__main__.Singleton object at 0x7f78929510f0>\n",
            "__init__ method called but nothing is created\n",
            "__init__ method called but nothing is created\n",
            "None\n",
            "None\n",
            "__init__ method called but nothing is created\n",
            "<__main__.Singleton object at 0x7f78928e88d0>\n",
            "<__main__.Singleton object at 0x7f78928e88d0>\n"
          ],
          "name": "stdout"
        }
      ]
    }
  ]
}