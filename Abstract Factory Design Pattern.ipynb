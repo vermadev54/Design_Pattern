{{
  "source": [
        "![Abstract Factory Design Pattern](AbstractFactory.png)"
      ]
    },
    {
      "cell_type": "markdown",
      "metadata": {
        "id": "24xq5F7dGtwW",
        "colab_type": "text"
      },
      "source": [
        "# Abstract Factory Design Pattern\n",
        "\n",
        "*   Provide an interface for creating families of related or dependent objects without specifying their concrete classes.\n",
        "*   A hierarchy that encapsulates: many possible \"platforms\", and the construction of a suite of \"products\".\n",
        "The new operator considered harmful."
      ]
    }
  ]
  "nbformat": 4,
  "nbformat_minor": 0,
  "metadata": {
    "colab": {
      "name": "Untitled4.ipynb",
      "version": "0.3.2",
      "provenance": []
    },
    "kernelspec": {
      "name": "python3",
      "display_name": "Python 3"
    }
  },
  "cells": [
    {
      "cell_type": "code",
      "metadata": {
        "id": "XxHFIfbX6ckG",
        "colab_type": "code",
        "colab": {
          "base_uri": "https://localhost:8080/",
          "height": 84
        },
        "outputId": "bf56bd6e-dfc7-4e6d-c62b-7fcb0615311b"
      },
      "source": [
        "class AbstractFactory:\n",
        "    def createproduct1(self):\n",
        "        raise NotImplementedError(\"createproduct1() must specified in sub cass\")\n",
        "    \n",
        "    def createproduct2(self):\n",
        "        raise NotImplementedError(\"createproduct2() must specified in sub cass\")\n",
        "    \n",
        "\n",
        "    \n",
        "    \n",
        "class ConcreteFactory1(AbstractFactory):\n",
        "    def createproduct1(self):\n",
        "        return product1_1()\n",
        "    def createproduct2(self):\n",
        "        return product2_1()          \n",
        "      \n",
        "      \n",
        "class ConcreteFactory2(AbstractFactory):\n",
        "    def createproduct1(self):\n",
        "        return product1_2()\n",
        "    def createproduct2(self):\n",
        "        return product2_2() \n",
        "        \n",
        "class AbstractProduct1:\n",
        "    def display(self):\n",
        "        print(\"display must be in subclass\")\n",
        "class product1_1(AbstractProduct1):\n",
        "    def display(self):\n",
        "        print(\"inside product1_1 display()\")\n",
        "class product1_2(AbstractProduct1):\n",
        "    def display(self):\n",
        "        print(\"inside product1_2 display()\")\n",
        "        \n",
        "class AbstractProduct2:\n",
        "    def display(self):\n",
        "        print(\"display must be in subclass\")\n",
        "class product2_1(AbstractProduct2):\n",
        "    def display(self):\n",
        "        print(\"inside product2_1 display()\")\n",
        "class product2_2(AbstractProduct2):\n",
        "    def display(self):\n",
        "        print(\"inside product2_2 display()\")\n",
        "      \n",
        "\n",
        "      \n",
        "factory1=ConcreteFactory1()\n",
        "product1 =factory1.createproduct1()\n",
        "product1.display()\n",
        "product1 =factory1.createproduct2()\n",
        "product1.display()\n",
        "\n",
        "\n",
        "factory2=ConcreteFactory2()\n",
        "product2 =factory2.createproduct1()\n",
        "product2.display()\n",
        "product2 =factory2.createproduct2()\n",
        "product2.display()\n"
      ],
      "execution_count": 14,
      "outputs": [
        {
          "output_type": "stream",
          "text": [
            "inside product1_1 display()\n",
            "inside product2_1 display()\n",
            "inside product1_2 display()\n",
            "inside product2_2 display()\n"
          ],
          "name": "stdout"
        }
      ]
    },
    {
      "cell_type": "markdown",
      "metadata": {
        "id": "kPwQisxgK_qZ",
        "colab_type": "text"
      }
      
}
