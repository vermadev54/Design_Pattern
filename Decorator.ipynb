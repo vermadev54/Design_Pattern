{
  "nbformat": 4,
  "nbformat_minor": 0,
  "metadata": {
    "colab": {
      "name": "Decorator.ipynb",
      "version": "0.3.2",
      "provenance": [],
      "include_colab_link": true
    },
    "kernelspec": {
      "name": "python3",
      "display_name": "Python 3"
    }
  },
  "cells": [
    {
      "cell_type": "markdown",
      "metadata": {
        "id": "view-in-github",
        "colab_type": "text"
      },
      "source": [
        "<a href=\"https://colab.research.google.com/github/vermadev54/Design_Pattern/blob/master/Decorator.ipynb\" target=\"_parent\"><img src=\"https://colab.research.google.com/assets/colab-badge.svg\" alt=\"Open In Colab\"/></a>"
      ]
    },
    {
      "cell_type": "markdown",
      "metadata": {
        "id": "s5tGkdMhqXVD",
        "colab_type": "text"
      },
      "source": [
        "# Background\n",
        "\n",
        "Following are important facts about functions in Python that are useful to understand decorator functions.\n",
        "\n",
        "1.   In Python, we can define a function inside another function.\n",
        "2.  In Python, a function can be passed as parameter to another function (a function can also return another function).\n",
        "\n"
      ]
    },
    {
      "cell_type": "code",
      "metadata": {
        "id": "PU4fyzv3qpJK",
        "colab_type": "code",
        "colab": {
          "base_uri": "https://localhost:8080/",
          "height": 34
        },
        "outputId": "c7f9d1db-cc01-449c-82b5-30ee3592456d"
      },
      "source": [
        "# A Python program to demonstrate that a function \n",
        "# can be defined inside another function and a \n",
        "# function can be passed as parameter. \n",
        "  \n",
        "# Adds a welcome message to the string \n",
        "def messageWithWelcome(str): \n",
        "  \n",
        "    # Nested function \n",
        "    def addWelcome(): \n",
        "        return \"Welcome to \"\n",
        "  \n",
        "    # Return concatenation of addWelcome() \n",
        "    # and str. \n",
        "    return  addWelcome() + str\n",
        "  \n",
        "# To get site name to which welcome is added \n",
        "def site(site_name): \n",
        "    return site_name \n",
        "  \n",
        "print(messageWithWelcome(site(\"GeeksforGeeks\")) )\n"
      ],
      "execution_count": 7,
      "outputs": [
        {
          "output_type": "stream",
          "text": [
            "Welcome to GeeksforGeeks\n"
          ],
          "name": "stdout"
        }
      ]
    },
    {
      "cell_type": "markdown",
      "metadata": {
        "id": "emaOZWempy4e",
        "colab_type": "text"
      },
      "source": [
        "# Function Decorator\n",
        "\n",
        "A decorator is a function that takes a function as its only parameter and returns a function. This is helpful to “wrap” functionality with the same code over and over again. For example, above code can be re-written as following.\n",
        "\n",
        "\n",
        "\n",
        "We use @func_name to specify a decorator to be applied on another function."
      ]
    },
    {
      "cell_type": "code",
      "metadata": {
        "id": "voSox_rL6YgS",
        "colab_type": "code",
        "outputId": "a40a2f69-74f0-4b64-a12a-a5f0bc691bce",
        "colab": {
          "base_uri": "https://localhost:8080/",
          "height": 34
        }
      },
      "source": [
        "# Adds a welcome message to the string \n",
        "# returned by fun(). Takes fun() as \n",
        "# parameter and returns welcome(). \n",
        "def decorate_message(fun): \n",
        "  \n",
        "    # Nested function \n",
        "    def addWelcome(site_name): \n",
        "        return \"Welcome to \" + fun(site_name) \n",
        "  \n",
        "    # Decorator returns a function \n",
        "    return addWelcome \n",
        "  \n",
        "@decorate_message\n",
        "def site(site_name): \n",
        "    return site_name; \n",
        "  \n",
        "# Driver code \n",
        "  \n",
        "# This call is equivalent to call to \n",
        "# decorate_message() with function \n",
        "# site(\"GeeksforGeeks\") as parameter \n",
        "print (site(\"GeeksforGeeks\")) "
      ],
      "execution_count": 4,
      "outputs": [
        {
          "output_type": "stream",
          "text": [
            "Welcome to GeeksforGeeks\n"
          ],
          "name": "stdout"
        }
      ]
    },
    {
      "cell_type": "markdown",
      "metadata": {
        "id": "1qDfC0e0rQCi",
        "colab_type": "text"
      },
      "source": [
        "**Decorators** can also be useful to attach data (or add attribute) to functions."
      ]
    },
    {
      "cell_type": "code",
      "metadata": {
        "id": "1pLW7VezrT6h",
        "colab_type": "code",
        "colab": {
          "base_uri": "https://localhost:8080/",
          "height": 51
        },
        "outputId": "75c1558a-d3ee-4df1-e99e-533d1b353a82"
      },
      "source": [
        "# A Python example to demonstrate that \n",
        "# decorators can be useful attach data \n",
        "  \n",
        "# A decorator function to attach \n",
        "# data to func \n",
        "def attach_data(func): \n",
        "       func.data = 3\n",
        "       return func \n",
        "  \n",
        "@attach_data\n",
        "def add (x, y): \n",
        "       return x + y \n",
        "  \n",
        "# Driver code \n",
        "  \n",
        "# This call is equivalent to attach_data() \n",
        "# with add() as parameter \n",
        "print(add(2, 3)) \n",
        "  \n",
        "print(add.data) "
      ],
      "execution_count": 8,
      "outputs": [
        {
          "output_type": "stream",
          "text": [
            "5\n",
            "3\n"
          ],
          "name": "stdout"
        }
      ]
    },
    {
      "cell_type": "markdown",
      "metadata": {
        "id": "S9ofrYGOrvXg",
        "colab_type": "text"
      },
      "source": [
        "‘**add()**’ returns sum of x and y passed as arguments but it is wrapped by a decorator function, calling add(2, 3) would simply give sum of two numbers but when we call add.data then ‘add’ function is passed into then decorator function ‘attach_data’ as argument and this function returns ‘add’ function with an attribute ‘data’ that is set to 3 and hence prints it."
      ]
    },
    {
      "cell_type": "code",
      "metadata": {
        "id": "kaU59NPMtDW4",
        "colab_type": "code",
        "colab": {
          "base_uri": "https://localhost:8080/",
          "height": 85
        },
        "outputId": "74eeb21e-a42a-4b64-f604-d5115c7cf07a"
      },
      "source": [
        "def my_decorator(func):\n",
        "    def wrapper():\n",
        "        print(\"Something is happening before the function is called.\")\n",
        "        func()\n",
        "        print(\"Something is happening after the function is called.\")\n",
        "    return wrapper\n",
        "  \n",
        "\n",
        "@my_decorator\n",
        "def say_whee():\n",
        "    print(\"Whee!\")\n",
        "print(say_whee())"
      ],
      "execution_count": 11,
      "outputs": [
        {
          "output_type": "stream",
          "text": [
            "Something is happening before the function is called.\n",
            "Whee!\n",
            "Something is happening after the function is called.\n",
            "None\n"
          ],
          "name": "stdout"
        }
      ]
    },
    {
      "cell_type": "markdown",
      "metadata": {
        "id": "J_UohfSPzBFx",
        "colab_type": "text"
      },
      "source": [
        "# Standardize Mobile Number Using Decorators\n",
        "Let's dive into decorators! You are given  mobile numbers. Sort them in ascending order then print them in the standard format shown below:\n",
        "\n",
        "\n",
        "**+91 xxxxx xxxxx**\n",
        "\n",
        "The given mobile numbers may have **+91 ,91  or 0**  written before the actual  **10** digit number. Alternatively, there may not be any prefix at all. \n",
        "\n",
        "Input Format\n",
        "\n",
        "The first line of input contains an integer **N**, the number of mobile phone numbers. \n",
        " lines follow each containing a mobile number.\n",
        "\n",
        "Output Format\n",
        "\n",
        "Print **N** mobile numbers on separate lines in the required format.\n",
        "\n",
        "**Sample Input**\n",
        "\n",
        "3\n",
        "07895462130\n",
        "\n",
        "919875641230\n",
        "\n",
        "9195969878\n",
        "\n",
        "**Sample Output**\n",
        "\n",
        "+91 78954 62130\n",
        "\n",
        "+91 91959 69878\n",
        "\n",
        "+91 98756 41230\n",
        "\n",
        "**Concept**\n",
        "\n",
        "Like most other programming languages, Python has the concept of closures. Extending these closures gives us decorators, which are an invaluable asset. You can learn about decorators in 12 easy steps here.\n",
        "To solve the above question, make a list of the mobile numbers and pass it to a function that sorts the array in ascending order. Make a decorator that standardizes the mobile numbers and apply it to the function."
      ]
    },
    {
      "cell_type": "code",
      "metadata": {
        "id": "_qEvTk8MxWSe",
        "colab_type": "code",
        "colab": {
          "base_uri": "https://localhost:8080/",
          "height": 136
        },
        "outputId": "28ef7a06-65c4-414a-b0c5-c662ea82b5d2"
      },
      "source": [
        "def wrapper(f):\n",
        "    def fun(l):\n",
        "        f(map(lambda x: \"+91 \" + x[-10:-5] + \" \" + x[-5:], l))\n",
        "    return fun\n",
        "\n",
        "@wrapper\n",
        "def sort_phone(l):\n",
        "    print(*sorted(l), sep='\\n')\n",
        "\n",
        "if __name__ == '__main__':\n",
        "    l = [input() for _ in range(int(input()))]\n",
        "    sort_phone(l) "
      ],
      "execution_count": 17,
      "outputs": [
        {
          "output_type": "stream",
          "text": [
            "3 \n",
            "07895462130 \n",
            "919875641230 \n",
            "9195969878\n",
            "+91 87564 1230 \n",
            "+91 89546 2130 \n",
            "+91 91959 69878\n"
          ],
          "name": "stdout"
        }
      ]
    }
  ]
}