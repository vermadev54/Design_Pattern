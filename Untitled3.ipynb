{
  "nbformat": 4,
  "nbformat_minor": 0,
  "metadata": {
    "colab": {
      "name": "singleton.ipynb",
      "version": "0.3.2",
      "provenance": []
    },
    "kernelspec": {
      "name": "python3",
      "display_name": "Python 3"
    }
  },
  "cells": [
    {
      "cell_type": "code",
      "metadata": {
        "id": "iyxrVyuP4I3l",
        "colab_type": "code",
        "outputId": "24ba7bae-3904-44cf-8c16-a5a6cd074c69",
        "colab": {
          "base_uri": "https://localhost:8080/",
          "height": 50
        }
      },
      "source": [
        "class Singleton:\n",
        "  def __new__(self):\n",
        "    if not hasattr(self, 'instance'):\n",
        "      self.instance = super().__new__(self)\n",
        "    return self.instance\n",
        "\n",
        "s = Singleton()\n",
        "print(\"Object created:\", s)\n",
        "\n",
        "s1 = Singleton()\n",
        "print(\"Object created:\", s1)\n",
        "\n",
        "\n",
        "\n"
      ],
      "execution_count": 1,
      "outputs": [
        {
          "output_type": "stream",
          "text": [
            "Object created: <__main__.Singleton object at 0x7f83b9412828>\n",
            "Object created: <__main__.Singleton object at 0x7f83b9412828>\n"
          ],
          "name": "stdout"
        }
      ]
    },
    {
      "cell_type": "markdown",
      "metadata": {
        "id": "ZVQM1M9o4x_3",
        "colab_type": "text"
      },
      "source": [
        "# **Lazy Instantiation of the Singleton Pattern**\n",
        "At times that resources are limited — or when objects are too demanding in terms of computing resources — we may prefer to only create an object when it is really needed. In the example below, the constructor __init__ does not create any new object. Object creation only happens when we explicitly call the getInstance() method:\n",
        "\n"
      ]
    },
    {
      "cell_type": "code",
      "metadata": {
        "id": "o0Vg1Qdz4zmU",
        "colab_type": "code",
        "colab": {
          "base_uri": "https://localhost:8080/",
          "height": 134
        },
        "outputId": "c50457e3-278d-4028-9843-982162104ab1"
      },
      "source": [
        "class Singleton:\n",
        "  __instance = None\n",
        "\n",
        "  def __init__(self):\n",
        "    if not Singleton.__instance:\n",
        "      print(\"__init__ method called but nothing is created\")\n",
        "    else:\n",
        "      print(\"instance already created:\", self.getInstance())\n",
        "\n",
        "  @classmethod\n",
        "  def getInstance(cls):\n",
        "    if cls.__instance is None:\n",
        "      cls.__instance = Singleton()\n",
        "    return cls.__instance\n",
        "\n",
        "\n",
        " \n",
        "# class initialized, but object not created\n",
        "s = Singleton() \n",
        "s1 = Singleton()\n",
        "\n",
        "# This returns None although the object is initialized\n",
        "print(s._Singleton__instance)\n",
        "print(s1._Singleton__instance)\n",
        "\n",
        "# We now explicitly initialize the object:\n",
        "s.getInstance()\n",
        "s1.getInstance()\n",
        "\n",
        "# Which is now accessible\n",
        "print(s._Singleton__instance)\n",
        "print(s1._Singleton__instance)"
      ],
      "execution_count": 2,
      "outputs": [
        {
          "output_type": "stream",
          "text": [
            "__init__ method called but nothing is created\n",
            "__init__ method called but nothing is created\n",
            "None\n",
            "None\n",
            "__init__ method called but nothing is created\n",
            "<__main__.Singleton object at 0x7f83b8b9c438>\n",
            "<__main__.Singleton object at 0x7f83b8b9c438>\n"
          ],
          "name": "stdout"
        }
      ]
    }
  ]
}
