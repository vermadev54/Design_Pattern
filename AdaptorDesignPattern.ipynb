{
  "nbformat": 4,
  "nbformat_minor": 0,
  "metadata": {
    "colab": {
      "name": "AdaptorDesignPattern.ipynb",
      "version": "0.3.2",
      "provenance": [],
      "collapsed_sections": [],
      "include_colab_link": true
    },
    "kernelspec": {
      "name": "python3",
      "display_name": "Python 3"
    }
  },
  "cells": [
    {
      "cell_type": "markdown",
      "metadata": {
        "id": "view-in-github",
        "colab_type": "text"
      },
      "source": [
        "<a href=\"https://colab.research.google.com/github/vermadev54/Design_Pattern/blob/master/AdaptorDesignPattern.ipynb\" target=\"_parent\"><img src=\"https://colab.research.google.com/assets/colab-badge.svg\" alt=\"Open In Colab\"/></a>"
      ]
    },
    {
      "cell_type": "code",
      "metadata": {
        "id": "WoL-0sGmq5mY",
        "colab_type": "code",
        "colab": {
          "base_uri": "https://localhost:8080/",
          "height": 67
        },
        "outputId": "44d77828-699a-4a93-e4a4-a01ad81cd70a"
      },
      "source": [
        "#okey adaptor design pattern we cant able to intrate through all \n",
        "\n",
        "class mizo:\n",
        "  def mizolang(self):\n",
        "    print(\"hello in mizo\")\n",
        "\n",
        "class hindi:\n",
        "  def hindilang(self):\n",
        "    print(\"hello in hindi\")\n",
        "\n",
        "class english:\n",
        "  def englang(self):\n",
        "    print(\"hello in eng\")\n",
        "    \n",
        "if __name__ == '__main__':\n",
        "  indians = [english(),mizo(),hindi()]\n",
        "  \n",
        "  for indian in indians:\n",
        "    if isinstance(indian, mizo ):\n",
        "       indian.mizolang()\n",
        "    elif isinstance(indian, hindi):\n",
        "        indian.hindilang()\n",
        "    else:\n",
        "        indian.englang()\n",
        "        "
      ],
      "execution_count": 3,
      "outputs": [
        {
          "output_type": "stream",
          "text": [
            "hello in eng\n",
            "hello in mizo\n",
            "hello in hindi\n"
          ],
          "name": "stdout"
        }
      ]
    },
    {
      "cell_type": "code",
      "metadata": {
        "id": "NC0OlZYutcSj",
        "colab_type": "code",
        "colab": {
          "base_uri": "https://localhost:8080/",
          "height": 67
        },
        "outputId": "51cd5c7e-f6c6-4e5c-c266-397294164bae"
      },
      "source": [
        "## better Adaptor problem: adding when newgroup will come \n",
        "\n",
        "\n",
        "\n",
        "class mizo:\n",
        "  def mizolang(self):\n",
        "    print(\"hello in mizo\")\n",
        "\n",
        "class hindi:\n",
        "  def hindilang(self):\n",
        "    print(\"hello in hindi\")\n",
        "\n",
        "class english:\n",
        "  def englang(self):\n",
        "    print(\"hello in eng\")\n",
        "    \n",
        "class AdaptorMizo:\n",
        "  def __init__(self,mizo):\n",
        "     self.mizo = mizo\n",
        "  def callme(self):\n",
        "     self.mizo.mizolang()\n",
        "\n",
        "class AdaptorHindi:\n",
        "  def __init__(self,hindi):\n",
        "     self.hindi = hindi\n",
        "  def callme(self):\n",
        "     self.hindi.hindilang()\n",
        "\n",
        "class AdaptorEnglish:\n",
        "  def __init__(self,english):\n",
        "     self.english = english\n",
        "  def callme(self):\n",
        "     self.english.englang()\n",
        "\n",
        "if __name__ == '__main__':\n",
        "    indians = [AdaptorMizo(mizo()), AdaptorHindi(hindi()), AdaptorEnglish(english())]\n",
        "    for indian in indians:\n",
        "        indian.callme()\n",
        "    "
      ],
      "execution_count": 48,
      "outputs": [
        {
          "output_type": "stream",
          "text": [
            "hello in mizo\n",
            "hello in hindi\n",
            "hello in eng\n"
          ],
          "name": "stdout"
        }
      ]
    },
    {
      "cell_type": "code",
      "metadata": {
        "id": "z5CVVUjFyT9f",
        "colab_type": "code",
        "colab": {
          "base_uri": "https://localhost:8080/",
          "height": 84
        },
        "outputId": "7d56e649-7287-4c95-99fb-89bbe2632beb"
      },
      "source": [
        "##best implementation: add any number of group\n",
        "class mizo:\n",
        "  def mizolang(self):\n",
        "    print(\"hello in mizo\")\n",
        "\n",
        "class hindi:\n",
        "  def hindilang(self):\n",
        "    print(\"hello in hindi\")\n",
        "\n",
        "class english:\n",
        "  def englang(self):\n",
        "    print(\"hello in eng\")\n",
        "    \n",
        "class panjabi:\n",
        "  def panjabilang(self):\n",
        "    print(\"hello kida ?\")\n",
        "\n",
        "    \n",
        "class IndianAdaptor:\n",
        "  _initialised = False\n",
        "  \n",
        "  def __init__(self, indian, **adapted_methods):\n",
        "    self.indian = indian        \n",
        "    \n",
        "    \n",
        "    for key, value in adapted_methods.items():   \n",
        "      \n",
        "        #print(key,value)\n",
        "        \n",
        "        func = getattr(self.indian, value)\n",
        "        \n",
        "        #print(func)\n",
        "        \n",
        "        self.__setattr__(key, func)\n",
        "        \n",
        "    self._initialised = True\n",
        "      \n",
        "   \n",
        "  \n",
        "    def __getattr__(self, attr):\n",
        "        \"\"\"Attributes not in Adapter are delegated to the minion\"\"\"\n",
        "        return getattr(self.indian, attr)\n",
        "\n",
        "    def __setattr__(self, key, value):\n",
        "        \"\"\"Set attributes normally during initialisation\"\"\"\n",
        "        if not self._initialised:\n",
        "            super().__setattr__(key, value)\n",
        "        else:\n",
        "            \"\"\"Set attributes on indian after initialisation\"\"\"\n",
        "            setattr(self.indian, key, value)\n",
        "\n",
        "  \n",
        "    \n",
        "if __name__ == '__main__':\n",
        "  indians = [IndianAdaptor(mizo(), callme ='mizolang'), IndianAdaptor(english(), callme ='englang'), IndianAdaptor(hindi(), callme ='hindilang'), IndianAdaptor(panjabi(), callme ='panjabilang')]\n",
        "  \n",
        "  for indian in indians:\n",
        "     indian.callme()\n",
        "  \n",
        "  "
      ],
      "execution_count": 61,
      "outputs": [
        {
          "output_type": "stream",
          "text": [
            "hello in mizo\n",
            "hello in eng\n",
            "hello in hindi\n",
            "hello kida ?\n"
          ],
          "name": "stdout"
        }
      ]
    },
    {
      "cell_type": "code",
      "metadata": {
        "id": "CuojCfCiBjzr",
        "colab_type": "code",
        "colab": {
          "base_uri": "https://localhost:8080/",
          "height": 168
        },
        "outputId": "aaa6066f-23f8-472c-c59d-8b544affa144"
      },
      "source": [
        "class Elf:\n",
        "    name = 'Galadriel'\n",
        "\n",
        "    def nall_nin(self):\n",
        "        print('Elf says: Calling the Overlord ...')\n",
        "\n",
        "\n",
        "class Dwarf:\n",
        "    def estver_narho(self):\n",
        "        print('Dwarf says: Calling the Overlord ...')\n",
        "\n",
        "\n",
        "class Human:\n",
        "    def ring_mig(self):\n",
        "        print('Human says: Calling the Overlord ...')\n",
        "\n",
        "\n",
        "class MinionAdapter:\n",
        "    _initialised = False\n",
        "\n",
        "    def __init__(self, minion, **adapted_methods):\n",
        "        self.minion = minion\n",
        "\n",
        "        for key, value in adapted_methods.items():\n",
        "            func = getattr(self.minion, value)\n",
        "            self.__setattr__(key, func)\n",
        "\n",
        "        self._initialised = True\n",
        "\n",
        "    def __getattr__(self, attr):\n",
        "        \"\"\"Attributes not in Adapter are delegated to the minion\"\"\"\n",
        "        return getattr(self.minion, attr)\n",
        "\n",
        "    def __setattr__(self, key, value):\n",
        "        \"\"\"Set attributes normally during initialisation\"\"\"\n",
        "        if not self._initialised:\n",
        "            super().__setattr__(key, value)\n",
        "        else:\n",
        "            \"\"\"Set attributes on minion after initialisation\"\"\"\n",
        "            setattr(self.minion, key, value)\n",
        "\n",
        "\n",
        "if __name__ == '__main__':\n",
        "    minion_adapters = [\n",
        "        MinionAdapter(Elf(), call_me='nall_nin'),\n",
        "        MinionAdapter(Dwarf(), call_me='estver_narho'),\n",
        "        MinionAdapter(Human(), call_me='ring_mig')\n",
        "    ]\n",
        "\n",
        "    for adapter in minion_adapters:\n",
        "        adapter.call_me()\n",
        "\n",
        "    elf_adapter = minion_adapters[0]\n",
        "    print()\n",
        "    print(f'Name from Adapter: {elf_adapter.name}')\n",
        "    print(f'Name from Minion: {elf_adapter.minion.name}')\n",
        "\n",
        "    minion_adapters[0].name = 'Elrond'\n",
        "\n",
        "    print()\n",
        "    print(f'Name from Adapter: {elf_adapter.name}')\n",
        "    print(f'Name from Minion: {elf_adapter.minion.name}')"
      ],
      "execution_count": 50,
      "outputs": [
        {
          "output_type": "stream",
          "text": [
            "Elf says: Calling the Overlord ...\n",
            "Dwarf says: Calling the Overlord ...\n",
            "Human says: Calling the Overlord ...\n",
            "\n",
            "Name from Adapter: Galadriel\n",
            "Name from Minion: Galadriel\n",
            "\n",
            "Name from Adapter: Elrond\n",
            "Name from Minion: Elrond\n"
          ],
          "name": "stdout"
        }
      ]
    }
  ]
}