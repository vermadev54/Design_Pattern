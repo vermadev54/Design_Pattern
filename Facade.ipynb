{
  "nbformat": 4,
  "nbformat_minor": 0,
  "metadata": {
    "colab": {
      "name": "Facade.ipynb",
      "version": "0.3.2",
      "provenance": [],
      "include_colab_link": true
    },
    "kernelspec": {
      "name": "python3",
      "display_name": "Python 3"
    }
  },
  "cells": [
    {
      "cell_type": "markdown",
      "metadata": {
        "id": "view-in-github",
        "colab_type": "text"
      },
      "source": [
        "<a href=\"https://colab.research.google.com/github/vermadev54/Design_Pattern/blob/master/Facade.ipynb\" target=\"_parent\"><img src=\"https://colab.research.google.com/assets/colab-badge.svg\" alt=\"Open In Colab\"/></a>"
      ]
    },
    {
      "cell_type": "code",
      "metadata": {
        "id": "BD-KajIp8qmH",
        "colab_type": "code",
        "colab": {
          "base_uri": "https://localhost:8080/",
          "height": 118
        },
        "outputId": "c0549b96-43d5-46db-b6d2-18b0085223a2"
      },
      "source": [
        "#use one class as an API to a number of others\n",
        "\n",
        "class mizo:\n",
        "  def mizolang(self):\n",
        "    print(\"hello in mizo\")\n",
        "\n",
        "class hindi:\n",
        "  def hindilang(self):\n",
        "    print(\"hello in hindi\")\n",
        "\n",
        "class english:\n",
        "  def englang(self):\n",
        "    print(\"hello in eng\")\n",
        "    \n",
        "class panjabi:\n",
        "  def panjabilang(self):\n",
        "    print(\"hello kida ?\")\n",
        "\n",
        "    \n",
        "class IndianAdaptor:\n",
        "  _initialised = False\n",
        "  \n",
        "  def __init__(self, indian, **adapted_methods):\n",
        "    self.indian = indian        \n",
        "    \n",
        "    \n",
        "    for key, value in adapted_methods.items():   \n",
        "      \n",
        "        #print(key,value)\n",
        "        \n",
        "        func = getattr(self.indian, value)\n",
        "        \n",
        "        #print(func)\n",
        "        \n",
        "        self.__setattr__(key, func)\n",
        "        \n",
        "    self._initialised = True\n",
        "      \n",
        "   \n",
        "  \n",
        "    def __getattr__(self, attr):\n",
        "        \"\"\"Attributes not in Adapter are delegated to the minion\"\"\"\n",
        "        return getattr(self.indian, attr)\n",
        "\n",
        "    def __setattr__(self, key, value):\n",
        "        \"\"\"Set attributes normally during initialisation\"\"\"\n",
        "        if not self._initialised:\n",
        "            super().__setattr__(key, value)\n",
        "        else:\n",
        "            \"\"\"Set attributes on indian after initialisation\"\"\"\n",
        "            setattr(self.indian, key, value)\n",
        "\n",
        "\n",
        "class IndianFacade:\n",
        "    indians_adapters = None\n",
        "\n",
        "    @classmethod\n",
        "    def create_indians(cls):\n",
        "        print('Creating indians ...')\n",
        "        cls.indians_adapters = [\n",
        "            IndianAdaptor(mizo(), callme ='mizolang'),\n",
        "            IndianAdaptor(english(), callme ='englang'),\n",
        "            IndianAdaptor(hindi(), callme ='hindilang'),\n",
        "            IndianAdaptor(panjabi(), callme ='panjabilang')\n",
        "        ]\n",
        "\n",
        "    @classmethod\n",
        "    def summon_indians(cls):\n",
        "        print('Summoning minions ...')\n",
        "        for adapter in cls.indians_adapters:\n",
        "            adapter.callme()\n",
        "                          \n",
        "                          \n",
        "                          \n",
        "if __name__ == '__main__':\n",
        "    IndianFacade.create_indians()\n",
        "    IndianFacade.summon_indians()\n"
      ],
      "execution_count": 8,
      "outputs": [
        {
          "output_type": "stream",
          "text": [
            "Creating indians ...\n",
            "Summoning minions ...\n",
            "hello in mizo\n",
            "hello in eng\n",
            "hello in hindi\n",
            "hello kida ?\n"
          ],
          "name": "stdout"
        }
      ]
    }
  ]
}